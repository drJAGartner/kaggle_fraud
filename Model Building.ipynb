{
 "cells": [
  {
   "cell_type": "markdown",
   "metadata": {
    "deletable": true,
    "editable": true
   },
   "source": [
    "<h2>A Quick Intro to Spark</h2>\n",
    "<p>Here, I'll walk through some of the basics associated with Data Exploration.  We'll be looking at a data set that is publicly available from <a href=\"https://www.kaggle.com/c/talkingdata-adtracking-fraud-detection/data\">Kaggle</a>, a data science competition website.  Here we'll be doing a little fraud investigation to see if we can build a model to identify fraudulent advertisement clicks.\n",
    "</p>"
   ]
  },
  {
   "cell_type": "code",
   "execution_count": 1,
   "metadata": {
    "collapsed": false,
    "deletable": true,
    "editable": true
   },
   "outputs": [
    {
     "name": "stdout",
     "output_type": "stream",
     "text": [
      "100000\n",
      "+------+---+------+---+-------+-------------------+---------------+-------------+\n",
      "|    ip|app|device| os|channel|         click_time|attributed_time|is_attributed|\n",
      "+------+---+------+---+-------+-------------------+---------------+-------------+\n",
      "| 87540| 12|     1| 13|    497|2017-11-07 09:30:38|           null|            0|\n",
      "|105560| 25|     1| 17|    259|2017-11-07 13:40:27|           null|            0|\n",
      "|101424| 12|     1| 19|    212|2017-11-07 18:05:24|           null|            0|\n",
      "| 94584| 13|     1| 13|    477|2017-11-07 04:58:08|           null|            0|\n",
      "| 68413| 12|     1|  1|    178|2017-11-09 09:00:09|           null|            0|\n",
      "| 93663|  3|     1| 17|    115|2017-11-09 01:22:13|           null|            0|\n",
      "| 17059|  1|     1| 17|    135|2017-11-09 01:17:58|           null|            0|\n",
      "|121505|  9|     1| 25|    442|2017-11-07 10:01:53|           null|            0|\n",
      "|192967|  2|     2| 22|    364|2017-11-08 09:35:17|           null|            0|\n",
      "|143636|  3|     1| 19|    135|2017-11-08 12:35:26|           null|            0|\n",
      "+------+---+------+---+-------+-------------------+---------------+-------------+\n",
      "only showing top 10 rows\n",
      "\n"
     ]
    }
   ],
   "source": [
    "%matplotlib inline\n",
    "import matplotlib.pyplot as plt\n",
    "from pyspark.sql.types import IntegerType\n",
    "from pyspark.mllib.regression import LabeledPoint\n",
    "from pyspark.mllib.tree import RandomForest\n",
    "\n",
    "df = spark.read.option(\"header\",\"true\").csv(\"data/train_sample.csv\")\n",
    "print(df.count())\n",
    "df.show(10)"
   ]
  },
  {
   "cell_type": "code",
   "execution_count": 2,
   "metadata": {
    "collapsed": false,
    "deletable": true,
    "editable": true
   },
   "outputs": [
    {
     "name": "stdout",
     "output_type": "stream",
     "text": [
      "+------+---+------+---+-------+-------------------+-------------------+-------------+\n",
      "|    ip|app|device| os|channel|         click_time|    attributed_time|is_attributed|\n",
      "+------+---+------+---+-------+-------------------+-------------------+-------------+\n",
      "|224120| 19|     0| 29|    213|2017-11-08 02:22:13|2017-11-08 02:22:38|            1|\n",
      "|272894| 10|     1|  7|    113|2017-11-08 06:10:05|2017-11-08 06:10:37|            1|\n",
      "| 79001| 19|     0|  0|    213|2017-11-07 09:54:22|2017-11-07 11:59:05|            1|\n",
      "|131029| 19|     0|  0|    343|2017-11-09 10:58:46|2017-11-09 11:52:01|            1|\n",
      "| 40352| 19|     0|  0|    213|2017-11-07 22:19:03|2017-11-08 01:55:02|            1|\n",
      "| 48733| 35|     1| 18|    274|2017-11-07 12:25:50|2017-11-07 13:10:30|            1|\n",
      "|330861| 35|     1| 22|     21|2017-11-08 18:54:44|2017-11-08 22:39:52|            1|\n",
      "|309576|  5|     1| 32|    113|2017-11-09 08:47:51|2017-11-09 08:47:55|            1|\n",
      "|220571| 71|     1| 25|      3|2017-11-08 04:35:21|2017-11-08 04:37:46|            1|\n",
      "|240051| 35|     1| 19|     21|2017-11-08 08:07:13|2017-11-08 09:46:42|            1|\n",
      "+------+---+------+---+-------+-------------------+-------------------+-------------+\n",
      "only showing top 10 rows\n",
      "\n",
      "Number Attributed: 227\n",
      "+------+---+------+---+-------+-------------------+---------------+-------------+\n",
      "|    ip|app|device| os|channel|         click_time|attributed_time|is_attributed|\n",
      "+------+---+------+---+-------+-------------------+---------------+-------------+\n",
      "| 87540| 12|     1| 13|    497|2017-11-07 09:30:38|           null|            0|\n",
      "|105560| 25|     1| 17|    259|2017-11-07 13:40:27|           null|            0|\n",
      "|101424| 12|     1| 19|    212|2017-11-07 18:05:24|           null|            0|\n",
      "| 94584| 13|     1| 13|    477|2017-11-07 04:58:08|           null|            0|\n",
      "| 68413| 12|     1|  1|    178|2017-11-09 09:00:09|           null|            0|\n",
      "| 93663|  3|     1| 17|    115|2017-11-09 01:22:13|           null|            0|\n",
      "| 17059|  1|     1| 17|    135|2017-11-09 01:17:58|           null|            0|\n",
      "|121505|  9|     1| 25|    442|2017-11-07 10:01:53|           null|            0|\n",
      "|192967|  2|     2| 22|    364|2017-11-08 09:35:17|           null|            0|\n",
      "|143636|  3|     1| 19|    135|2017-11-08 12:35:26|           null|            0|\n",
      "+------+---+------+---+-------+-------------------+---------------+-------------+\n",
      "only showing top 10 rows\n",
      "\n",
      "Number Non-attributed 99773\n"
     ]
    }
   ],
   "source": [
    "df_att = df[df['is_attributed']==1].cache()\n",
    "df_att.show(10)\n",
    "n_att = df_att.count()\n",
    "print(\"Number Attributed:\", n_att)\n",
    "df_not = df[df['is_attributed']==0].cache()\n",
    "df_not.show(10)\n",
    "n_not = df_not.count()\n",
    "print(\"Number Non-attributed\", n_not)"
   ]
  },
  {
   "cell_type": "code",
   "execution_count": 3,
   "metadata": {
    "collapsed": false,
    "deletable": true,
    "editable": true
   },
   "outputs": [
    {
     "name": "stdout",
     "output_type": "stream",
     "text": [
      "Unique IPs: 34707\n",
      "Unique Apps: 155\n",
      "Unique Device Codes: 91\n",
      "Unique OS: 129\n",
      "Unique Channel: 159\n"
     ]
    }
   ],
   "source": [
    "print(\"Unique IPs:\", df_not.select(\"ip\").distinct().count())\n",
    "print(\"Unique Apps:\", df_not.select(\"app\").distinct().count())\n",
    "print(\"Unique Device Codes:\", df_not.select(\"device\").distinct().count())\n",
    "print(\"Unique OS:\", df_not.select(\"os\").distinct().count())\n",
    "print(\"Unique Channel:\", df_not.select(\"channel\").distinct().count())"
   ]
  },
  {
   "cell_type": "code",
   "execution_count": 4,
   "metadata": {
    "collapsed": false,
    "deletable": true,
    "editable": true
   },
   "outputs": [
    {
     "name": "stdout",
     "output_type": "stream",
     "text": [
      "Unique IPs: 223\n",
      "Unique Apps: 37\n",
      "Unique Device Codes: 25\n",
      "Unique OS: 39\n",
      "Unique Channel: 40\n"
     ]
    }
   ],
   "source": [
    "print(\"Unique IPs:\", df_att.select(\"ip\").distinct().count())\n",
    "print(\"Unique Apps:\", df_att.select(\"app\").distinct().count())\n",
    "print(\"Unique Device Codes:\", df_att.select(\"device\").distinct().count())\n",
    "print(\"Unique OS:\", df_att.select(\"os\").distinct().count())\n",
    "print(\"Unique Channel:\", df_att.select(\"channel\").distinct().count())"
   ]
  },
  {
   "cell_type": "code",
   "execution_count": 5,
   "metadata": {
    "collapsed": false,
    "deletable": true,
    "editable": true
   },
   "outputs": [
    {
     "name": "stdout",
     "output_type": "stream",
     "text": [
      "Difference in percentages (attributed - not) for app 19: 0.30428076138119875\n",
      "Difference in percentages (attributed - not) for app 35: 0.11872223074131583\n",
      "Difference in percentages (attributed - not) for app 29: 0.09352860950304327\n",
      "Difference in percentages (attributed - not) for app 10: 0.07558673607591436\n",
      "Difference in percentages (attributed - not) for app 5: 0.059930050024127456\n",
      "Difference in percentages (attributed - not) for app 45: 0.04820758098857976\n",
      "Difference in percentages (attributed - not) for app 72: 0.02633149054521164\n",
      "Difference in percentages (attributed - not) for app 39: 0.013085563259435924\n",
      "Difference in percentages (attributed - not) for app 83: 0.01303544950120474\n",
      "Difference in percentages (attributed - not) for app 8: -0.002424357918024575\n",
      "Difference in percentages (attributed - not) for app 9: -0.05480211004089414\n",
      "Difference in percentages (attributed - not) for app 18: -0.06126263446216744\n",
      "Difference in percentages (attributed - not) for app 3: -0.16554464096053106\n"
     ]
    }
   ],
   "source": [
    "app_att = df_att.select(df['app'].cast(\"int\")).rdd\\\n",
    "                .map(lambda x: (x.app, 1))\\\n",
    "                .reduceByKey(lambda x, y: x+y)\\\n",
    "                .map(lambda x: (x[0], x[1]/n_att))\\\n",
    "                .filter(lambda x: x[1]>.01)\\\n",
    "                .sortBy(lambda x: x[1], ascending=False).collectAsMap()\n",
    "  \n",
    "l_app_att = [x[0] for x in app_att.items()]\n",
    "\n",
    "\n",
    "\n",
    "app_not = df_not.select(df['app'].cast(\"int\")).rdd\\\n",
    "                .map(lambda x: (x.app, 1))\\\n",
    "                .reduceByKey(lambda x, y: x+y)\\\n",
    "                .map(lambda x: (x[0], x[1]/n_not))\\\n",
    "                .sortBy(lambda x: x[1], ascending=False).take(10)\n",
    "\n",
    "app_not_in_l = df_not.select(df['app'].cast(\"int\")).rdd\\\n",
    "                    .map(lambda x: (x.app, 1))\\\n",
    "                    .filter(lambda x: x[0] in l_app_att)\\\n",
    "                    .reduceByKey(lambda x, y: x+y)\\\n",
    "                    .map(lambda x: (x[0], x[1]/n_not))\\\n",
    "                    .collect()\n",
    "\n",
    "diffs = [(x[0], app_att[x[0]] - x[1]) for x in app_not_in_l]\n",
    "for app in sorted(diffs, key=lambda x: x[1], reverse=True):\n",
    "    print(\"Difference in percentages (attributed - not) for app {}:\".format(app[0]), app[1])\n"
   ]
  },
  {
   "cell_type": "code",
   "execution_count": 6,
   "metadata": {
    "collapsed": false,
    "deletable": true,
    "editable": true
   },
   "outputs": [
    {
     "data": {
      "image/png": "[encoded data removed]",
      "text/plain": [
       "<matplotlib.figure.Figure at 0x1102d6cc0>"
      ]
     },
     "metadata": {},
     "output_type": "display_data"
    }
   ],
   "source": [
    "fig, ax = plt.subplots(figsize=(8,8))\n",
    "ax.bar([x[0] for x in diffs], [x[1] for x in diffs])\n",
    "ax.set_title(\"Difference in Attribution per App\")\n",
    "ax.set_ylabel(\"Attribution percent - NonAttribution percent\")\n",
    "_ = ax.set_xlabel(\"App Code\")"
   ]
  },
  {
   "cell_type": "code",
   "execution_count": 7,
   "metadata": {
    "collapsed": false,
    "deletable": true,
    "editable": true
   },
   "outputs": [
    {
     "name": "stdout",
     "output_type": "stream",
     "text": [
      "+------+---+------+---+-------+-------------------+---------------+-------------+---------+---------+---------+---------+--------------------+\n",
      "|    ip|app|device| os|channel|         click_time|attributed_time|is_attributed|is_app_19|is_app_35|is_app_29|is_app_10|            dt_click|\n",
      "+------+---+------+---+-------+-------------------+---------------+-------------+---------+---------+---------+---------+--------------------+\n",
      "| 87540| 12|     1| 13|    497|2017-11-07 09:30:38|           null|            0|    false|    false|    false|    false|2017-11-07 09:30:...|\n",
      "|105560| 25|     1| 17|    259|2017-11-07 13:40:27|           null|            0|    false|    false|    false|    false|2017-11-07 13:40:...|\n",
      "|101424| 12|     1| 19|    212|2017-11-07 18:05:24|           null|            0|    false|    false|    false|    false|2017-11-07 18:05:...|\n",
      "| 94584| 13|     1| 13|    477|2017-11-07 04:58:08|           null|            0|    false|    false|    false|    false|2017-11-07 04:58:...|\n",
      "| 68413| 12|     1|  1|    178|2017-11-09 09:00:09|           null|            0|    false|    false|    false|    false|2017-11-09 09:00:...|\n",
      "+------+---+------+---+-------+-------------------+---------------+-------------+---------+---------+---------+---------+--------------------+\n",
      "only showing top 5 rows\n",
      "\n"
     ]
    }
   ],
   "source": [
    "from pyspark.sql.functions import udf\n",
    "from datetime import datetime\n",
    "from pyspark.sql.types import TimestampType, BooleanType, NumericType, IntegerType\n",
    "\n",
    "def is_app_num(col_num, num):\n",
    "    return col_num==str(num)\n",
    "\n",
    "make_app_n = udf(lambda app_col: is_app_num(app_col, '19') , BooleanType())\n",
    "df = df.withColumn(\"is_app_19\", make_app_n(df['app']))\n",
    "\n",
    "\n",
    "make_app_n = udf(lambda app_col: is_app_num(app_col, '35') , BooleanType())\n",
    "df = df.withColumn(\"is_app_35\", make_app_n(df['app']))\n",
    "\n",
    "\n",
    "make_app_n = udf(lambda app_col: is_app_num(app_col, '29') , BooleanType())\n",
    "df = df.withColumn(\"is_app_29\", make_app_n(df['app']))\n",
    "\n",
    "\n",
    "make_app_n = udf(lambda app_col: is_app_num(app_col, '10') , BooleanType())\n",
    "df = df.withColumn(\"is_app_10\", make_app_n(df['app']))\n",
    "\n",
    "\n",
    "make_dt = udf(lambda date_string: datetime.strptime(date_string, \"%Y-%m-%d %H:%M:%S\"), \\\n",
    "              TimestampType())\n",
    "df = df.withColumn(\"dt_click\", make_dt(df['click_time']))\n",
    "\n",
    "\n",
    "df.show(5)\n"
   ]
  },
  {
   "cell_type": "code",
   "execution_count": 8,
   "metadata": {
    "collapsed": false,
    "deletable": true,
    "editable": true
   },
   "outputs": [
    {
     "data": {
      "image/png": "[encoded data removed]",
      "text/plain": [
       "<matplotlib.figure.Figure at 0x1102d8518>"
      ]
     },
     "metadata": {},
     "output_type": "display_data"
    }
   ],
   "source": [
    "df_att = df[df['is_attributed']==1]\n",
    "hr_att = df_att.select('dt_click').rdd.flatMap(lambda x: x)\\\n",
    "                .map(lambda x: (x.hour, 1)).reduceByKey(lambda x, y: x+y)\\\n",
    "                .map(lambda x: (x[0], x[1]/n_att)).sortBy(lambda x: x[0]).collect()\n",
    "    \n",
    "df_not = df[df['is_attributed']==0]\n",
    "hr_not = df_not.select('dt_click').rdd.flatMap(lambda x: x)\\\n",
    "                .map(lambda x: (x.hour, 1)).reduceByKey(lambda x, y: x+y)\\\n",
    "                .map(lambda x: (x[0], x[1]/n_not)).sortBy(lambda x: x[0]).collect()\n",
    "        \n",
    "fig, ax = plt.subplots(1, 2, figsize=(12, 6), sharey=True)\n",
    "ax[0].bar([x[0] for x in hr_att], [x[1] for x in hr_att], color='r')\n",
    "ax[0].set_title(\"Hour of Day for Attributed Clicks\")\n",
    "ax[0].set_xlabel(\"Hour\")\n",
    "ax[0].set_ylabel(\"Percent Clicks\")\n",
    "ax[1].bar([x[0] for x in hr_not], [x[1] for x in hr_not])\n",
    "ax[1].set_title(\"Hour of Day for Nonattributed Clicks\")\n",
    "ax[1].set_xlabel(\"Hour\")\n",
    "_  = ax[1].set_ylabel(\"Percent Clicks\")"
   ]
  },
  {
   "cell_type": "code",
   "execution_count": 9,
   "metadata": {
    "collapsed": false,
    "deletable": true,
    "editable": true
   },
   "outputs": [
    {
     "data": {
      "image/png": "[encoded data removed]",
      "text/plain": [
       "<matplotlib.figure.Figure at 0x110988ba8>"
      ]
     },
     "metadata": {},
     "output_type": "display_data"
    }
   ],
   "source": [
    "df_att = df[df['is_attributed']==1]\n",
    "hr_att = df_att.select('dt_click').rdd.flatMap(lambda x: x)\\\n",
    "                .map(lambda x: (x.day, 1)).reduceByKey(lambda x, y: x+y)\\\n",
    "                .map(lambda x: (x[0], x[1]/n_att)).sortBy(lambda x: x[0]).collect()\n",
    "    \n",
    "df_not = df[df['is_attributed']==0]\n",
    "hr_not = df_not.select('dt_click').rdd.flatMap(lambda x: x)\\\n",
    "                .map(lambda x: (x.day, 1)).reduceByKey(lambda x, y: x+y)\\\n",
    "                .map(lambda x: (x[0], x[1]/n_not)).sortBy(lambda x: x[0]).collect()\n",
    "        \n",
    "fig, ax = plt.subplots(1, 2, figsize=(12, 6), sharey=True)\n",
    "ax[0].bar([x[0] for x in hr_att], [x[1] for x in hr_att], color='r')\n",
    "ax[0].set_title(\"Day of Attributed Clicks\")\n",
    "ax[0].set_xlabel(\"Day\")\n",
    "ax[0].set_ylabel(\"Percent Clicks\")\n",
    "ax[1].bar([x[0] for x in hr_not], [x[1] for x in hr_not])\n",
    "ax[1].set_title(\"Day of Nonattributed Clicks\")\n",
    "ax[1].set_xlabel(\"Day\")\n",
    "_ = ax[1].set_ylabel(\"Percent Clicks\")"
   ]
  },
  {
   "cell_type": "code",
   "execution_count": 10,
   "metadata": {
    "collapsed": false,
    "deletable": true,
    "editable": true
   },
   "outputs": [
    {
     "name": "stdout",
     "output_type": "stream",
     "text": [
      "[(5314, 3), (5348, 3)]\n",
      "[(5348, 666), (5314, 613), (73487, 439), (73516, 399), (53454, 280), (114276, 219), (26995, 218), (95766, 205), (17149, 186), (100275, 173), (105475, 167), (105560, 149), (111025, 136), (43793, 135), (86767, 134), (137052, 128), (5178, 117), (49602, 116), (48170, 112), (48282, 112)]\n"
     ]
    }
   ],
   "source": [
    "ip_att = df_att.select('ip').rdd.flatMap(lambda x: x)\\\n",
    "                .map(lambda x: (int(x), 1)).reduceByKey(lambda x, y: x+y)\\\n",
    "                .filter(lambda x: x[1]>1).sortBy(lambda x: x[1], ascending=False).collect()\n",
    "    \n",
    "print(ip_att)\n",
    "\n",
    "\n",
    "ip_not = df_not.select('ip').rdd.flatMap(lambda x: x)\\\n",
    "                .map(lambda x: (int(x), 1)).reduceByKey(lambda x, y: x+y)\\\n",
    "                .filter(lambda x: x[1]>1).sortBy(lambda x: x[1], ascending=False).take(20)\n",
    "    \n",
    "print(ip_not)"
   ]
  },
  {
   "cell_type": "code",
   "execution_count": 11,
   "metadata": {
    "collapsed": false,
    "deletable": true,
    "editable": true
   },
   "outputs": [
    {
     "data": {
      "image/png": "[encoded data removed]",
      "text/plain": [
       "<matplotlib.figure.Figure at 0x110b75f98>"
      ]
     },
     "metadata": {},
     "output_type": "display_data"
    }
   ],
   "source": [
    "ip_att = df_att.select('ip').rdd.flatMap(lambda x: x).map(lambda x: int(x)).collect()\n",
    "ip_not = df_not.select('ip').rdd.flatMap(lambda x: x).map(lambda x: int(x)).collect()\n",
    "\n",
    "fig, ax = plt.subplots(2, 1, figsize=(6, 12), sharex=True)\n",
    "ax[0].hist(ip_att, color='r', bins=20)\n",
    "ax[0].set_title(\"IP for Attributed Clicks\")\n",
    "ax[0].set_ylabel(\"Count\")\n",
    "ax[1].hist(ip_not, bins=20)\n",
    "ax[1].set_title(\"IP for Nonattributed Clicks\")\n",
    "ax[1].set_xlabel(\"Encoded IP\")\n",
    "_ = ax[1].set_ylabel(\"Count\")"
   ]
  },
  {
   "cell_type": "code",
   "execution_count": 12,
   "metadata": {
    "collapsed": false,
    "deletable": true,
    "editable": true
   },
   "outputs": [
    {
     "data": {
      "image/png": "[encoded data removed]",
      "text/plain": [
       "<matplotlib.figure.Figure at 0x111775f98>"
      ]
     },
     "metadata": {},
     "output_type": "display_data"
    }
   ],
   "source": [
    "dev_att = df_att.select('device').rdd.flatMap(lambda x: x)\\\n",
    "                .map(lambda x: (int(x), 1/n_att))\\\n",
    "                .reduceByKey(lambda x, y: x+y)\\\n",
    "                .filter(lambda x: x[0] < 30)\\\n",
    "                .collectAsMap()\n",
    "            \n",
    "dev_not = df_not.select('device').rdd.flatMap(lambda x: x)\\\n",
    "                .map(lambda x: (int(x), 1/n_not))\\\n",
    "                .reduceByKey(lambda x, y: x+y)\\\n",
    "                .filter(lambda x: x[0] < 30)\\\n",
    "                .collectAsMap()\n",
    "\n",
    "dev_att = sorted([x for x in dev_att.items()], key=lambda x:x[0])\n",
    "dev_not = sorted([x for x in dev_not.items()], key=lambda x:x[0])\n",
    "\n",
    "fig, ax = plt.subplots(1, 2, figsize=(12, 6), sharey=True)\n",
    "ax[0].bar([x[0] for x in dev_att], [x[1] for x in dev_att], color='r')\n",
    "ax[0].set_title(\"Device for Attributed Clicks\")\n",
    "ax[0].set_ylabel(\"Count\")\n",
    "ax[1].bar([x[0] for x in dev_not], [x[1] for x in dev_not])\n",
    "ax[1].set_title(\"Device for Nonattributed Clicks\")\n",
    "ax[1].set_xlabel(\"Device Code\")\n",
    "_ = ax[1].set_ylabel(\"Count\")\n"
   ]
  },
  {
   "cell_type": "code",
   "execution_count": 13,
   "metadata": {
    "collapsed": false,
    "deletable": true,
    "editable": true
   },
   "outputs": [
    {
     "name": "stdout",
     "output_type": "stream",
     "text": [
      "[(19, 41), (0, 26), (24, 26), (13, 25), (29, 11), (21, 8), (17, 6), (22, 6), (27, 6), (7, 5), (25, 5)] \n",
      "\n",
      "[(19, 23829), (13, 21198), (17, 5226), (22, 4033), (25, 2243), (27, 1002), (0, 173), (24, 168), (7, 108), (21, 52), (29, 45)]\n"
     ]
    }
   ],
   "source": [
    "os_att = df_att.select('os').rdd.flatMap(lambda x: x)\\\n",
    "                .map(lambda x: (int(x), 1))\\\n",
    "                .reduceByKey(lambda x, y: x+y)\\\n",
    "                .filter(lambda x: x[1]>4)\\\n",
    "                .sortBy(lambda x: x[1], ascending=False)\\\n",
    "                .collectAsMap()\n",
    "\n",
    "os_not = df_not.select('os').rdd.flatMap(lambda x: x)\\\n",
    "                .map(lambda x: (int(x), 1))\\\n",
    "                .reduceByKey(lambda x, y: x+y)\\\n",
    "                .filter(lambda x: x[0] in os_att)\\\n",
    "                .sortBy(lambda x: x[1], ascending=False)\\\n",
    "                .collect()                \n",
    "\n",
    "os_att = [x for x in sorted(os_att.items(), key=lambda x: x[1], reverse=True)]\n",
    "print(os_att, \"\\n\")\n",
    "print(os_not)\n",
    "\n"
   ]
  },
  {
   "cell_type": "code",
   "execution_count": 14,
   "metadata": {
    "collapsed": true,
    "deletable": true,
    "editable": true
   },
   "outputs": [],
   "source": [
    "# Create a labeled point with a positive label and a dense feature vector.\n",
    "def create_point(row):\n",
    "    return LabeledPoint(row.is_attributed, \\\n",
    "                        [row.is_app_19, row.is_app_35, \\\n",
    "                         row.is_app_29, row.is_app_10,\\\n",
    "                        int(row.device), int(row.ip)])\n"
   ]
  },
  {
   "cell_type": "code",
   "execution_count": 15,
   "metadata": {
    "collapsed": false,
    "deletable": true,
    "editable": true
   },
   "outputs": [
    {
     "data": {
      "text/plain": [
       "100000"
      ]
     },
     "execution_count": 15,
     "metadata": {},
     "output_type": "execute_result"
    }
   ],
   "source": [
    "data = df.rdd.map(lambda x: create_point(x))\n",
    "data.cache()\n",
    "data.count()"
   ]
  },
  {
   "cell_type": "code",
   "execution_count": 16,
   "metadata": {
    "collapsed": false,
    "deletable": true,
    "editable": true
   },
   "outputs": [
    {
     "name": "stdout",
     "output_type": "stream",
     "text": [
      "69\n",
      "158\n"
     ]
    }
   ],
   "source": [
    "(trainingData, testData) = data.randomSplit([0.7, 0.3])\n",
    "print(testData.filter(lambda x: x.label==1).count())\n",
    "print(trainingData.filter(lambda x: x.label==1).count())"
   ]
  },
  {
   "cell_type": "code",
   "execution_count": 17,
   "metadata": {
    "collapsed": false,
    "deletable": true,
    "editable": true
   },
   "outputs": [],
   "source": [
    "#model = RandomForest.trainClassifier(trainingData, numClasses=2, categoricalFeaturesInfo={},\n",
    "#                                     numTrees=5, featureSubsetStrategy=\"auto\",\n",
    "#                                     impurity='gini', maxDepth=6, maxBins=32)\n",
    "\n",
    "model = RandomForest.trainRegressor(trainingData, categoricalFeaturesInfo={},\n",
    "                                    numTrees=5, featureSubsetStrategy=\"auto\",\n",
    "                                    impurity='variance', maxDepth=6, maxBins=32)"
   ]
  },
  {
   "cell_type": "code",
   "execution_count": 18,
   "metadata": {
    "collapsed": false,
    "deletable": true,
    "editable": true
   },
   "outputs": [],
   "source": [
    "predictions = model.predict(testData.map(lambda x: x.features))\n",
    "labelsAndPredictions = testData.map(lambda lp: lp.label).zip(predictions)\n"
   ]
  },
  {
   "cell_type": "code",
   "execution_count": 24,
   "metadata": {
    "collapsed": false,
    "deletable": true,
    "editable": true
   },
   "outputs": [
    {
     "name": "stdout",
     "output_type": "stream",
     "text": [
      "At threshold {} 1.0\n",
      "\tAccuracy: 0.9977099236641221\n",
      "\tPrecision:  0\n",
      "\tRecall:  0.0\n",
      "At threshold {} 0.75\n",
      "\tAccuracy: 0.9977099236641221\n",
      "\tPrecision:  0\n",
      "\tRecall:  0.0\n",
      "At threshold {} 0.5\n",
      "\tAccuracy: 0.9977763026883505\n",
      "\tPrecision:  0.625\n",
      "\tRecall:  0.07246376811594203\n",
      "At threshold {} 0.3\n",
      "\tAccuracy: 0.9979090607368072\n",
      "\tPrecision:  0.6875\n",
      "\tRecall:  0.15942028985507245\n",
      "At threshold {} 0.2\n",
      "\tAccuracy: 0.9977099236641221\n",
      "\tPrecision:  0.5\n",
      "\tRecall:  0.34782608695652173\n",
      "At threshold {} 0.1\n",
      "\tAccuracy: 0.9941918353800199\n",
      "\tPrecision:  0.2087912087912088\n",
      "\tRecall:  0.5507246376811594\n",
      "At threshold {} 0.05\n",
      "\tAccuracy: 0.9929970129439097\n",
      "\tPrecision:  0.18018018018018017\n",
      "\tRecall:  0.5797101449275363\n",
      "At threshold {} 0.01\n",
      "\tAccuracy: 0.9856621307666777\n",
      "\tPrecision:  0.10629067245119306\n",
      "\tRecall:  0.7101449275362319\n",
      "At threshold {} 0.005\n",
      "\tAccuracy: 0.9236973116495186\n",
      "\tPrecision:  0.02512776831345826\n",
      "\tRecall:  0.855072463768116\n",
      "At threshold {} 0.001\n",
      "\tAccuracy: 0.8680384998340525\n",
      "\tPrecision:  0.015621125712868828\n",
      "\tRecall:  0.9130434782608695\n",
      "At threshold {} 0.0008\n",
      "\tAccuracy: 0.8659143710587455\n",
      "\tPrecision:  0.015377105198926044\n",
      "\tRecall:  0.9130434782608695\n",
      "At threshold {} 0.0005\n",
      "\tAccuracy: 0.04726186525058084\n",
      "\tPrecision:  0.0023979148566463946\n",
      "\tRecall:  1.0\n",
      "At threshold {} 0\n",
      "\tAccuracy: 0.0022900763358778627\n",
      "\tPrecision:  0.0022900763358778627\n",
      "\tRecall:  1.0\n"
     ]
    },
    {
     "data": {
      "image/png": "[encoded data removed]",
      "text/plain": [
       "<matplotlib.figure.Figure at 0x110759fd0>"
      ]
     },
     "metadata": {},
     "output_type": "display_data"
    }
   ],
   "source": [
    "cond_pos = [x for x in labelsAndPredictions.collect() if x[0]==1]\n",
    "cond_neg = [x for x in labelsAndPredictions.collect() if x[0]==0]\n",
    "n_pos = len(cond_pos)\n",
    "n_neg = len(cond_neg)\n",
    "thresholds = [1., .75, .5, .3, .2, .1, .05, .01, .005, .001, .0008, .0005, 0]\n",
    "points = []\n",
    "for thresh in thresholds:\n",
    "    tpr = float(len([x for x in cond_pos if x[1]>thresh]))/n_pos\n",
    "    fpr = float(len([x for x in cond_neg if x[1]>thresh]))/n_neg\n",
    "    acc = (tpr*n_pos +(1-fpr)*n_neg)/(n_pos+n_neg)\n",
    "    pre = tpr*n_pos/(tpr*n_pos + fpr*n_neg) if tpr*n_pos + fpr*n_neg>0 else 0\n",
    "    rec = tpr*n_pos/n_pos\n",
    "    print(\"At threshold {}\", thresh)\n",
    "    print(\"\\tAccuracy:\", acc)\n",
    "    print(\"\\tPrecision: \", pre)\n",
    "    print(\"\\tRecall: \", rec)\n",
    "    points.append((fpr, tpr))\n",
    "    \n",
    "fig, ax = plt.subplots(figsize=(8,8))\n",
    "ax.plot([x[0] for x in points], [x[1] for x in points], color='r', linewidth=2.0, label=\"model\")\n",
    "ax.plot([0., 1.], [0., 1.], linestyle=\"--\", label=\"Random Chance\")\n",
    "ax.set_xlabel(\"False Positive Rate\")\n",
    "ax.set_ylabel(\"True Positive Rate\")\n",
    "ax.set_title(\"Random Forest ROC Curve\")\n",
    "_ = ax.legend(loc='lower right')"
   ]
  },
  {
   "cell_type": "code",
   "execution_count": null,
   "metadata": {
    "collapsed": true,
    "deletable": true,
    "editable": true
   },
   "outputs": [],
   "source": []
  }
 ],
 "metadata": {
  "kernelspec": {
   "display_name": "Python 3",
   "language": "python",
   "name": "python3"
  },
  "language_info": {
   "codemirror_mode": {
    "name": "ipython",
    "version": 3
   },
   "file_extension": ".py",
   "mimetype": "text/x-python",
   "name": "python",
   "nbconvert_exporter": "python",
   "pygments_lexer": "ipython3",
   "version": "3.5.2"
  }
 },
 "nbformat": 4,
 "nbformat_minor": 2
}
