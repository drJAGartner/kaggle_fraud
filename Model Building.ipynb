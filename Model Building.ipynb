{
 "cells": [
  {
   "cell_type": "code",
   "execution_count": 13,
   "metadata": {},
   "outputs": [
    {
     "data": {
      "text/html": [
       "\n",
       "        <div>\n",
       "            <p><b>SparkContext</b></p>\n",
       "\n",
       "            <p><a href=\"http://192.168.1.70:4040\">Spark UI</a></p>\n",
       "\n",
       "            <dl>\n",
       "              <dt>Version</dt>\n",
       "                <dd><code>v2.2.0</code></dd>\n",
       "              <dt>Master</dt>\n",
       "                <dd><code>local[*]</code></dd>\n",
       "              <dt>AppName</dt>\n",
       "                <dd><code>PySparkShell</code></dd>\n",
       "            </dl>\n",
       "        </div>\n",
       "        "
      ],
      "text/plain": [
       "<SparkContext master=local[*] appName=PySparkShell>"
      ]
     },
     "execution_count": 13,
     "metadata": {},
     "output_type": "execute_result"
    }
   ],
   "source": [
    "from pyspark.ml.stat import Correlation\n",
    "sc"
   ]
  },
  {
   "cell_type": "code",
   "execution_count": 7,
   "metadata": {},
   "outputs": [
    {
     "data": {
      "text/plain": [
       "Row(ip='83230', app='3', device='1', os='13', channel='379', click_time='2017-11-06 14:32:21', attributed_time=None, is_attributed='0')"
      ]
     },
     "execution_count": 7,
     "metadata": {},
     "output_type": "execute_result"
    }
   ],
   "source": [
    "df = spark.read.option(\"header\",\"true\").csv(\"data/train.csv\")\n",
    "df[df['attributed_time']!=None and is_attributed!='0'].count()"
   ]
  },
  {
   "cell_type": "code",
   "execution_count": 11,
   "metadata": {},
   "outputs": [
    {
     "data": {
      "text/plain": [
       "0"
      ]
     },
     "execution_count": 11,
     "metadata": {},
     "output_type": "execute_result"
    }
   ],
   "source": [
    "df[(df['attributed_time']!=None) & (df['is_attributed']!='0')].count()"
   ]
  },
  {
   "cell_type": "code",
   "execution_count": 15,
   "metadata": {},
   "outputs": [
    {
     "name": "stdout",
     "output_type": "stream",
     "text": [
      "+-------+-----------------+------------------+-----------------+------------------+------------------+-------------------+-------------------+--------------------+\n",
      "|summary|               ip|               app|           device|                os|           channel|         click_time|    attributed_time|       is_attributed|\n",
      "+-------+-----------------+------------------+-----------------+------------------+------------------+-------------------+-------------------+--------------------+\n",
      "|  count|        184903890|         184903890|        184903890|         184903890|         184903890|          184903890|             456846|           184903890|\n",
      "|   mean|90876.04196792723|12.011312758211847|21.72325165252067|22.677021402848798|268.57885623174286|               null|               null|0.002470721410998979|\n",
      "| stddev|69527.89473043312|14.805210397714955|259.3326447188448| 55.25281738298106|129.58815206365384|               null|               null|0.049644908702075205|\n",
      "|    min|                1|                 0|                0|                 0|                 0|2017-11-06 14:32:21|2017-11-06 16:00:47|                   0|\n",
      "|    max|            99998|                99|              997|                99|               500|2017-11-09 16:00:00|2017-11-09 16:00:00|                   1|\n",
      "+-------+-----------------+------------------+-----------------+------------------+------------------+-------------------+-------------------+--------------------+\n",
      "\n"
     ]
    }
   ],
   "source": [
    "df.describe().show()"
   ]
  },
  {
   "cell_type": "code",
   "execution_count": null,
   "metadata": {
    "collapsed": true
   },
   "outputs": [],
   "source": []
  }
 ],
 "metadata": {
  "kernelspec": {
   "display_name": "Python 3",
   "language": "python",
   "name": "python3"
  },
  "language_info": {
   "codemirror_mode": {
    "name": "ipython",
    "version": 3
   },
   "file_extension": ".py",
   "mimetype": "text/x-python",
   "name": "python",
   "nbconvert_exporter": "python",
   "pygments_lexer": "ipython3",
   "version": "3.6.1"
  }
 },
 "nbformat": 4,
 "nbformat_minor": 2
}
